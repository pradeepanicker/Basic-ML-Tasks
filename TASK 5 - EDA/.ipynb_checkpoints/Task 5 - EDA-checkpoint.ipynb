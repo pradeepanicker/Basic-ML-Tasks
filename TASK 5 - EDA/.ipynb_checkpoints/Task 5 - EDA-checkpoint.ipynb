{
 "cells": [
  {
   "cell_type": "code",
   "execution_count": 2,
   "metadata": {
    "scrolled": true
   },
   "outputs": [],
   "source": [
    "library(readr)\n",
    "library(caret)\n",
    "library(caTools)\n",
    "library(rpart)\n",
    "library(gmodels)\n",
    "library(plyr)\n",
    "library(dplyr)\n",
    "library(DMwR)\n",
    "library(ggplot2)\n",
    "library(arules)\n",
    "library(RColorBrewer)\n",
    "library(arulesViz)"
   ]
  },
  {
   "cell_type": "code",
   "execution_count": 6,
   "metadata": {},
   "outputs": [
    {
     "data": {
      "text/html": [
       "<ol class=list-inline>\n",
       "\t<li>9994</li>\n",
       "\t<li>13</li>\n",
       "</ol>\n"
      ],
      "text/latex": [
       "\\begin{enumerate*}\n",
       "\\item 9994\n",
       "\\item 13\n",
       "\\end{enumerate*}\n"
      ],
      "text/markdown": [
       "1. 9994\n",
       "2. 13\n",
       "\n",
       "\n"
      ],
      "text/plain": [
       "[1] 9994   13"
      ]
     },
     "metadata": {},
     "output_type": "display_data"
    }
   ],
   "source": [
    "store= read.csv('SampleSuperstore.csv', header = TRUE)\n",
    "dim(store)"
   ]
  },
  {
   "cell_type": "code",
   "execution_count": 7,
   "metadata": {},
   "outputs": [
    {
     "data": {
      "text/plain": [
       "          Ship.Mode           Segment              Country    \n",
       " First Class   :1538   Consumer   :5191   United States:9994  \n",
       " Same Day      : 543   Corporate  :3020                       \n",
       " Second Class  :1945   Home Office:1783                       \n",
       " Standard Class:5968                                          \n",
       "                                                              \n",
       "                                                              \n",
       "                                                              \n",
       "            City               State       Postal.Code        Region    \n",
       " New York City: 915   California  :2001   Min.   : 1040   Central:2323  \n",
       " Los Angeles  : 747   New York    :1128   1st Qu.:23223   East   :2848  \n",
       " Philadelphia : 537   Texas       : 985   Median :56431   South  :1620  \n",
       " San Francisco: 510   Pennsylvania: 587   Mean   :55190   West   :3203  \n",
       " Seattle      : 428   Washington  : 506   3rd Qu.:90008                 \n",
       " Houston      : 377   Illinois    : 492   Max.   :99301                 \n",
       " (Other)      :6480   (Other)     :4295                                 \n",
       "            Category         Sub.Category      Sales              Quantity    \n",
       " Furniture      :2121   Binders    :1523   Min.   :    0.444   Min.   : 1.00  \n",
       " Office Supplies:6026   Paper      :1370   1st Qu.:   17.280   1st Qu.: 2.00  \n",
       " Technology     :1847   Furnishings: 957   Median :   54.490   Median : 3.00  \n",
       "                        Phones     : 889   Mean   :  229.858   Mean   : 3.79  \n",
       "                        Storage    : 846   3rd Qu.:  209.940   3rd Qu.: 5.00  \n",
       "                        Art        : 796   Max.   :22638.480   Max.   :14.00  \n",
       "                        (Other)    :3613                                      \n",
       "    Discount          Profit         \n",
       " Min.   :0.0000   Min.   :-6599.978  \n",
       " 1st Qu.:0.0000   1st Qu.:    1.729  \n",
       " Median :0.2000   Median :    8.666  \n",
       " Mean   :0.1562   Mean   :   28.657  \n",
       " 3rd Qu.:0.2000   3rd Qu.:   29.364  \n",
       " Max.   :0.8000   Max.   : 8399.976  \n",
       "                                     "
      ]
     },
     "metadata": {},
     "output_type": "display_data"
    }
   ],
   "source": [
    "summary(store)"
   ]
  },
  {
   "cell_type": "code",
   "execution_count": null,
   "metadata": {},
   "outputs": [],
   "source": []
  }
 ],
 "metadata": {
  "kernelspec": {
   "display_name": "R",
   "language": "R",
   "name": "ir"
  },
  "language_info": {
   "codemirror_mode": "r",
   "file_extension": ".r",
   "mimetype": "text/x-r-source",
   "name": "R",
   "pygments_lexer": "r",
   "version": "3.6.1"
  }
 },
 "nbformat": 4,
 "nbformat_minor": 4
}
